{
 "cells": [
  {
   "cell_type": "code",
   "execution_count": 14,
   "metadata": {
    "collapsed": false,
    "deletable": true,
    "editable": true
   },
   "outputs": [],
   "source": [
    "import tensorflow as tf\n",
    "import numpy as np\n"
   ]
  },
  {
   "cell_type": "code",
   "execution_count": 5,
   "metadata": {
    "collapsed": false,
    "deletable": true,
    "editable": true
   },
   "outputs": [
    {
     "data": {
      "text/plain": [
       "array([ 10, 100])"
      ]
     },
     "execution_count": 5,
     "metadata": {},
     "output_type": "execute_result"
    }
   ],
   "source": [
    "\n",
    "foo = tf.constant(np.array([[1, 2, 3], [4, 5, 6]]))\n",
    "bar = tf.constant(np.array([10, 100]))\n",
    "\n",
    "sess = tf.InteractiveSession()\n",
    "\n",
    "sess.run(tf.global_variables_initializer())\n",
    "sess.run(bar)"
   ]
  },
  {
   "cell_type": "code",
   "execution_count": 13,
   "metadata": {
    "collapsed": false,
    "deletable": true,
    "editable": true
   },
   "outputs": [
    {
     "data": {
      "text/plain": [
       "array([[ 10,  20,  30],\n",
       "       [400, 500, 600]])"
      ]
     },
     "execution_count": 13,
     "metadata": {},
     "output_type": "execute_result"
    }
   ],
   "source": [
    "sess.run(tf.tile(tf.expand_dims(bar, 1), [1, 3]) * foo)"
   ]
  },
  {
   "cell_type": "code",
   "execution_count": 1,
   "metadata": {
    "collapsed": true,
    "deletable": true,
    "editable": true
   },
   "outputs": [],
   "source": [
    "import pstats"
   ]
  },
  {
   "cell_type": "code",
   "execution_count": 3,
   "metadata": {
    "collapsed": false
   },
   "outputs": [],
   "source": [
    "p = pstats.Stats('test-profile.txt')"
   ]
  },
  {
   "cell_type": "code",
   "execution_count": 7,
   "metadata": {
    "collapsed": false
   },
   "outputs": [
    {
     "name": "stdout",
     "output_type": "stream",
     "text": [
      "Sat Oct  7 19:37:41 2017    test-profile.txt\n",
      "\n",
      "         223032300 function calls (207363017 primitive calls) in 1522.440 seconds\n",
      "\n",
      "   Ordered by: cumulative time\n",
      "   List reduced from 7802 to 50 due to restriction <50>\n",
      "\n",
      "   ncalls  tottime  percall  cumtime  percall filename:lineno(function)\n",
      "   1917/1    0.097    0.000 1522.497 1522.497 {built-in method exec}\n",
      "        1    0.000    0.000 1522.497 1522.497 experiment_larger_minibatches.py:1(<module>)\n",
      "        1    0.009    0.009 1504.731 1504.731 experiment_larger_minibatches.py:4(main)\n",
      "        1    7.085    7.085 1503.954 1503.954 /home/paperspace/dario-study/agent.py:34(learn)\n",
      "12054601/509838    8.728    0.000  689.870    0.001 /usr/local/lib/python3.4/dist-packages/gym/core.py:80(step)\n",
      "   500001    2.090    0.000  686.190    0.001 /home/paperspace/dario-study/atari_wrappers.py:133(_step)\n",
      "   500001    1.147    0.000  683.614    0.001 /home/paperspace/dario-study/atari_wrappers.py:124(_step)\n",
      "2503730/504529    2.049    0.000  568.437    0.001 /usr/local/lib/python3.4/dist-packages/gym/core.py:279(_step)\n",
      "   501133    6.175    0.000  567.622    0.001 /home/paperspace/dario-study/atari_wrappers.py:88(_step)\n",
      "  2012434    4.774    0.000  483.091    0.000 /home/paperspace/dario-study/atari_wrappers.py:50(_step)\n",
      "  2012434    3.821    0.000  472.117    0.000 /usr/local/lib/python3.4/dist-packages/gym/wrappers/monitoring.py:31(_step)\n",
      "  2012434    3.892    0.000  447.309    0.000 /usr/local/lib/python3.4/dist-packages/gym/wrappers/time_limit.py:34(_step)\n",
      "  2012434   11.735    0.000  440.297    0.000 /usr/local/lib/python3.4/dist-packages/gym/envs/atari/atari_env.py:71(_step)\n",
      "   118017    0.716    0.000  438.937    0.004 /usr/local/lib/python3.4/dist-packages/tensorflow/python/client/session.py:678(run)\n",
      "   118017    3.738    0.000  436.849    0.004 /usr/local/lib/python3.4/dist-packages/tensorflow/python/client/session.py:914(_run)\n",
      "   118017    0.245    0.000  409.961    0.003 /usr/local/lib/python3.4/dist-packages/tensorflow/python/client/session.py:1090(_do_run)\n",
      "   118017    0.177    0.000  409.716    0.003 /usr/local/lib/python3.4/dist-packages/tensorflow/python/client/session.py:1137(_do_call)\n",
      "   118017    0.960    0.000  409.539    0.003 /usr/local/lib/python3.4/dist-packages/tensorflow/python/client/session.py:1114(_run_fn)\n",
      "   118017  405.749    0.003  405.749    0.003 {built-in method TF_Run}\n",
      "     7031    0.040    0.000  319.682    0.045 /home/paperspace/dario-study/dqn_utils.py:234(sample)\n",
      "     7031    0.300    0.000  301.111    0.043 /home/paperspace/dario-study/models.py:140(train)\n",
      "     7031    1.796    0.000  294.546    0.042 /home/paperspace/dario-study/dqn_utils.py:224(_encode_sample)\n",
      "  2012434  291.052    0.000  291.052    0.000 /usr/local/lib/python3.4/dist-packages/atari_py/ale_python_interface.py:135(act)\n",
      "   539501  270.112    0.001  270.112    0.001 {built-in method concatenate}\n",
      "   110933    1.925    0.000  147.569    0.001 /home/paperspace/dario-study/models.py:137(choose_best_action)\n",
      "  2046658    1.971    0.000  132.680    0.000 /usr/local/lib/python3.4/dist-packages/gym/envs/atari/atari_env.py:85(_get_image)\n",
      "  2013000    2.235    0.000  132.614    0.000 /usr/local/lib/python3.4/dist-packages/gym/envs/atari/atari_env.py:95(_get_obs)\n",
      "  2046658  109.678    0.000  130.709    0.000 /usr/local/lib/python3.4/dist-packages/atari_py/ale_python_interface.py:206(getScreenRGB2)\n",
      "   500567   68.968    0.000  114.821    0.000 /home/paperspace/dario-study/atari_wrappers.py:110(_process_frame84)\n",
      "  1002274   56.927    0.000   56.927    0.000 {method 'reduce' of 'numpy.ufunc' objects}\n",
      "   501133    1.620    0.000   55.697    0.000 /usr/local/lib/python3.4/dist-packages/numpy/core/fromnumeric.py:2174(amax)\n",
      "   501133    0.514    0.000   54.077    0.000 /usr/local/lib/python3.4/dist-packages/numpy/core/_methods.py:25(_amax)\n",
      "  7310677   19.857    0.000   28.620    0.000 /home/paperspace/dario-study/dqn_utils.py:284(_encode_observation)\n",
      "     7031   13.013    0.002   25.094    0.004 /home/paperspace/dario-study/dqn_utils.py:18(sample_n_unique)\n",
      "   500567   23.826    0.000   23.826    0.000 {resize}\n",
      "   501133    4.485    0.000   18.898    0.000 /usr/local/lib/python3.4/dist-packages/numpy/core/shape_base.py:296(stack)\n",
      "   2039/2    0.010    0.000   17.770    8.885 <frozen importlib._bootstrap>:2234(_find_and_load)\n",
      "   2039/2    0.011    0.000   17.770    8.885 <frozen importlib._bootstrap>:2207(_find_and_load_unlocked)\n",
      "   1741/2    0.009    0.000   17.770    8.885 <frozen importlib._bootstrap>:1186(_load_unlocked)\n",
      "   1615/2    0.002    0.000   17.770    8.885 <frozen importlib._bootstrap>:1122(_exec)\n",
      "   1615/2    0.006    0.000   17.770    8.885 <frozen importlib._bootstrap>:1465(exec_module)\n",
      "   2533/2    0.002    0.000   17.769    8.885 <frozen importlib._bootstrap>:313(_call_with_frames_removed)\n",
      "        1    0.000    0.000   17.765   17.765 /home/paperspace/dario-study/run_dqn_atari.py:1(<module>)\n",
      "  1139/94    0.004    0.000   17.647    0.188 {built-in method __import__}\n",
      "11696/946    0.010    0.000   17.621    0.019 <frozen importlib._bootstrap>:2264(_handle_fromlist)\n",
      "   499041    2.874    0.000   17.495    0.000 /usr/local/lib/python3.4/dist-packages/numpy/core/fromnumeric.py:2806(mean)\n",
      "  2012434    4.489    0.000   16.757    0.000 /usr/local/lib/python3.4/dist-packages/gym/wrappers/monitoring.py:169(_after_step)\n",
      "  1001189   16.653    0.000   16.653    0.000 {method 'astype' of 'numpy.ndarray' objects}\n",
      "     7031    2.537    0.000   16.205    0.002 /home/paperspace/dario-study/dqn_utils.py:228(<listcomp>)\n",
      "     7031    2.208    0.000   16.106    0.002 /home/paperspace/dario-study/dqn_utils.py:225(<listcomp>)\n",
      "\n",
      "\n"
     ]
    },
    {
     "data": {
      "text/plain": [
       "<pstats.Stats at 0x1080aa518>"
      ]
     },
     "execution_count": 7,
     "metadata": {},
     "output_type": "execute_result"
    }
   ],
   "source": [
    "p.sort_stats('cumulative').print_stats(50)"
   ]
  },
  {
   "cell_type": "code",
   "execution_count": null,
   "metadata": {
    "collapsed": true
   },
   "outputs": [],
   "source": []
  }
 ],
 "metadata": {
  "kernelspec": {
   "display_name": "Python 3",
   "language": "python",
   "name": "python3"
  },
  "language_info": {
   "codemirror_mode": {
    "name": "ipython",
    "version": 3
   },
   "file_extension": ".py",
   "mimetype": "text/x-python",
   "name": "python",
   "nbconvert_exporter": "python",
   "pygments_lexer": "ipython3",
   "version": "3.6.1"
  }
 },
 "nbformat": 4,
 "nbformat_minor": 2
}
